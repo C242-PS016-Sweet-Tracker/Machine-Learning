{
  "nbformat": 4,
  "nbformat_minor": 0,
  "metadata": {
    "colab": {
      "provenance": []
    },
    "kernelspec": {
      "name": "python3",
      "display_name": "Python 3"
    },
    "language_info": {
      "name": "python"
    }
  },
  "cells": [
    {
      "cell_type": "markdown",
      "source": [
        "# **Description**"
      ],
      "metadata": {
        "id": "_qME6N4ijXv8"
      }
    },
    {
      "cell_type": "markdown",
      "source": [
        "This script is designed to provide food recommendations tailored for individuals with type 1 and type 2 diabetes. It aims to help users make healthier food choices based on their specific diabetic condition. By using this script, users can easily access personalized dietary suggestions to support their overall well-being.\n"
      ],
      "metadata": {
        "id": "AiiSVl16j0t9"
      }
    },
    {
      "cell_type": "markdown",
      "source": [
        "# Library\n"
      ],
      "metadata": {
        "id": "uxjuyebBlPOY"
      }
    },
    {
      "cell_type": "markdown",
      "source": [
        "Before running the script, make sure you have installed all the required libraries. You can do this by executing the following commands."
      ],
      "metadata": {
        "id": "RBGu12qBmBv7"
      }
    },
    {
      "cell_type": "code",
      "execution_count": null,
      "metadata": {
        "id": "rCOYk6GJi8Oj"
      },
      "outputs": [],
      "source": [
        "!pip install pandas\n"
      ]
    },
    {
      "cell_type": "markdown",
      "source": [
        "# Code"
      ],
      "metadata": {
        "id": "TyHTLnHrldAm"
      }
    },
    {
      "cell_type": "code",
      "source": [
        "import pandas as pd\n",
        "import random\n",
        "\n",
        "# dataset\n",
        "data_nutrisi = {\n",
        "    'Nama Makanan': [\n",
        "        'Brokoli', 'Bayam', 'Kembang Kol', 'Kacang Hijau', 'Kacang Almond',\n",
        "        'Salmon', 'Ayam Panggang', 'Daging Sapi Tanpa Lemak', 'Tahu', 'Tempe',\n",
        "        'Quinoa', 'Beras Merah', 'Oatmeal', 'Lentil', 'Kacang Hitam',\n",
        "        'Apel', 'Pisang', 'Jeruk', 'Stroberi', 'Blueberry',\n",
        "        'Tomat', 'Mentimun', 'Wortel', 'Paprika', 'Zucchini',\n",
        "        'Bawang Putih', 'Bawang Merah', 'Jahe', 'Kunyit', 'Cabai',\n",
        "        'Yogurt Rendah Lemak', 'Keju Rendah Lemak', 'Susu Almond', 'Susu Kedelai', 'Susu Rendah Lemak',\n",
        "        'Telur', 'Ikan Tuna', 'Ikan Sarden', 'Daging Kalkun', 'Daging Domba',\n",
        "        'Kacang Polong', 'Biji Chia', 'Biji Rami', 'Biji Labu', 'Biji Wijen',\n",
        "        'Roti Gandum Utuh', 'Pasta Gandum Utuh', 'Sereal Gandum Utuh', 'Kacang Merah', 'Kacang Pista',\n",
        "        'Pepaya', 'Mangga', 'Kiwi', 'Semangka', 'Melon',\n",
        "        'Bayam Merah', 'Kale', 'Kacang Kedelai', 'Asparagus', 'Kubis Brussel',\n",
        "        'Edamame', 'Kacang Mede', 'Chia Seed Pudding', 'Susu Santan', 'Minyak Zaitun',\n",
        "        'Minyak Kelapa', 'Minyak Ikan', 'Daging Babi Tanpa Lemak', 'Ikan Lele', 'Ikan Kakap',\n",
        "        'Kentang', 'Ubi Jalar', 'Jagung', 'Nasi Hitam', 'Roti Protein Tinggi',\n",
        "        'Granola', 'Muesli', 'Tomat Cherry', 'Cabai Merah', 'Bawang Bombay',\n",
        "        'Selada', 'Rucola', 'Jamur Tiram', 'Jamur Champignon', 'Buncis',\n",
        "        'Durian', 'Anggur', 'Ceri', 'Nanas', 'Kelapa Muda',\n",
        "        'Kacang Tanah', 'Kacang Ginkgo', 'Buah Naga', 'Salad Buah', 'Smoothie Hijau'\n",
        "    ],\n",
        "    'Kalori': [\n",
        "        55, 23, 25, 34, 576, 206, 239, 250, 76, 192,\n",
        "        120, 111, 71, 116, 132, 52, 89, 47, 32, 57,\n",
        "        18, 16, 41, 20, 17, 149, 40, 80, 80, 60,\n",
        "        155, 132, 132, 135, 250, 100, 150, 200, 150, 200,\n",
        "        70, 100, 80, 90, 90, 60, 70, 50, 60, 60, 50, 60, 80, 60, 50,\n",
        "        60, 50, 60, 70, 80, 90, 100, 120, 150, 200,\n",
        "        100, 150, 200, 250, 300, 400, 500, 600, 700, 800,\n",
        "        100, 150, 200, 250, 300, 350, 400, 450, 500, 550,\n",
        "        60, 70, 80, 90, 100, 110, 120, 130, 140, 150,\n",
        "    ],\n",
        "    'Karbohidrat': [\n",
        "        11.2, 3.6, 4.9, 6.2, 21.6, 0, 0, 0, 1.9, 3.9,\n",
        "        21.3, 23.0, 12.0, 20.1, 23.0, 14.0, 22.8, 11.8, 8.3, 14.5,\n",
        "        3.9, 3.6, 9.6, 4.7, 3.1, 0.9, 0.9, 0.9, 0.9, 0.9,\n",
        "        0.5, 0.5, 0.5, 0.5, 0.5, 0.5, 0.5, 0.5, 0.5, 0.5,\n",
        "        12.0, 12.0, 12.0, 12.0, 12.0, 12.0, 12.0, 12.0, 12.0, 12.0,\n",
        "        12.0, 12.0, 12.0, 12.0, 12.0, 12.0, 12.0, 12.0, 12.0, 12.0,\n",
        "        12.0, 12.0, 12.0, 12.0, 12.0, 12.0, 12.0, 12.0, 12.0, 12.0,\n",
        "        12.0, 12.0, 12.0, 12.0, 12.0, 12.0, 12.0, 12.0, 12.0, 12.0,\n",
        "        12.0, 12.0, 12.0, 12.0, 12.0, 12.0, 12.0, 12.0, 12.0, 12.0,\n",
        "        12.0, 12.0, 12.0, 12.0, 12.0\n",
        "    ],\n",
        "    'Protein': [\n",
        "        4.0, 2.9, 1.9, 3.0, 21.2, 22.0, 31.0, 26.0, 8.0, 18.0,\n",
        "        4.1, 2.6, 2.5, 9.0, 8.0, 0.3, 1.0, 0.9, 0.7, 0.6,\n",
        "        0.9, 0.7, 0.9, 0.8, 0.6, 0.1, 0.1, 0.1, 0.1, 0.1,\n",
        "        6.0, 6.0, 6.0, 6.0, 6.0, 6.0, 6.0, 6.0, 6.0, 6.0,\n",
        "        6.0, 6.0, 6.0, 6.0, 6.0, 6.0, 6.0, 6.0, 6.0, 6.0,\n",
        "        6.0, 6.0, 6.0, 6.0, 6.0, 6.0, 6.0, 6.0, 6.0, 6.0,\n",
        "        6.0, 6.0, 6.0, 6.0, 6.0, 6.0, 6.0, 6.0, 6.0, 6.0,\n",
        "        6.0, 6.0, 6.0, 6.0, 6.0, 6.0, 6.0, 6.0, 6.0, 6.0,\n",
        "        6.0, 6.0, 6.0, 6.0, 6.0, 6.0, 6.0, 6.0, 6.0, 6.0,\n",
        "        6.0, 6.0, 6.0, 6.0, 6.0\n",
        "    ],\n",
        "    'Lemak': [\n",
        "        0.6, 0.4, 0.3, 0.2, 50.0, 13.0, 10.0, 8.0, 4.0, 10.0,\n",
        "        2.0, 1.0, 1.5, 0.4, 0.5, 0.2, 0.3, 0.2, 0.1, 0.2,\n",
        "        0.2, 0.1, 0.1, 0.1, 0.1, 0.0, 0.0, 0.0, 0.0, 0.0,\n",
        "        0.0, 0.0, 0.0, 0.0, 0.0, 0.0, 0.0, 0.0, 0.0, 0.0,\n",
        "        0.0, 0.0, 0.0, 0.0, 0.0, 0.0, 0.0, 0.0, 0.0, 0.0,\n",
        "        0.0, 0.0, 0.0, 0.0, 0.0, 0.0, 0.0, 0.0, 0.0, 0.0,\n",
        "        0.0, 0.0, 0.0, 0.0, 0.0, 0.0, 0.0, 0.0, 0.0, 0.0,\n",
        "        0.0, 0.0, 0.0, 0.0, 0.0, 0.0, 0.0, 0.0, 0.0, 0.0,\n",
        "        0.0, 0.0, 0.0, 0.0, 0.0, 0.0, 0.0, 0.0, 0.0, 0.0,\n",
        "        0.0, 0.0, 0.0, 0.0, 0.0\n",
        "    ],\n",
        "    'Serat': [\n",
        "        2.6, 2.2, 2.0, 4.0, 12.5, 0, 0, 0, 0.5, 1.9,\n",
        "        2.8, 1.8, 1.5, 7.9, 8.0, 2.4, 2.6, 2.4, 2.0, 2.0,\n",
        "        1.0, 0.5, 1.0, 1.0, 1.0, 0.0, 0.0, 0.0, 0.0, 0.0,\n",
        "        0.0, 0.0, 0.0, 0.0, 0.0, 0.0, 0.0, 0.0, 0.0, 0.0,\n",
        "        0.0, 0.0, 0.0, 0.0, 0.0, 0.0, 0.0, 0.0, 0.0, 0.0,\n",
        "        0.0, 0.0, 0.0, 0.0, 0.0, 0.0, 0.0, 0.0, 0.0, 0.0,\n",
        "        0.0, 0.0, 0.0, 0.0, 0.0, 0.0, 0.0, 0.0, 0.0, 0.0,\n",
        "        0.0, 0.0, 0.0, 0.0, 0.0, 0.0, 0.0, 0.0, 0.0, 0.0,\n",
        "        0.0, 0.0, 0.0, 0.0, 0.0, 0.0, 0.0, 0.0, 0.0, 0.0,\n",
        "        0.0, 0.0, 0.0, 0.0, 0.0\n",
        "    ]\n",
        "}\n",
        "\n",
        "df = pd.DataFrame(data_nutrisi)\n",
        "\n",
        "\n",
        "# Input user condition or calorie amount\n",
        "input_user = input(\"Masukkan kondisi Anda ('diabetes tipe 1' atau 'diabetes tipe 2'): \")\n",
        "\n",
        "# Function to recommend food based on diabetes condition\n",
        "def rekomendasi_diabetes(tipe):\n",
        "    if tipe == 'diabetes tipe 1':\n",
        "        makanan_diabetes = [\n",
        "            'Brokoli', 'Bayam', 'Kembang Kol', 'Kacang Hijau', 'Kacang Almond',\n",
        "            'Salmon', 'Ayam Panggang', 'Daging Sapi Tanpa Lemak', 'Tahu', 'Tempe',\n",
        "            'Quinoa', 'Oatmeal', 'Lentil', 'Kacang Hitam', 'Stroberi',\n",
        "            'Blueberry', 'Tomat', 'Mentimun', 'Wortel', 'Paprika',\n",
        "            'Asparagus', 'Kubis Brussel', 'Edamame', 'Biji Chia', 'Biji Wijen',\n",
        "            'Tomat Cherry', 'Roti Gandum Utuh', 'Beras Merah', 'Granola', 'Muesli',\n",
        "            'Bayam Merah', 'Kale', 'Jamur Tiram', 'Jamur Champignon', 'Rucola',\n",
        "            'Buncis', 'Kacang Polong', 'Apel', 'Jeruk', 'Zucchini',\n",
        "            'Pepaya', 'Mangga', 'Kiwi', 'Semangka', 'Melon',\n",
        "            'Nasi Hitam', 'Sereal Gandum Utuh', 'Smoothie Hijau', 'Cabai Merah', 'Anggur'\n",
        "        ]\n",
        "    elif tipe == 'diabetes tipe 2':\n",
        "        makanan_diabetes = [\n",
        "            'Brokoli', 'Bayam', 'Kembang Kol', 'Kacang Hijau', 'Kacang Almond',\n",
        "            'Salmon', 'Ayam Panggang', 'Daging Sapi Tanpa Lemak', 'Tahu', 'Tempe',\n",
        "            'Quinoa', 'Beras Merah', 'Oatmeal', 'Lentil', 'Kacang Hitam',\n",
        "            'Apel', 'Pisang', 'Jeruk', 'Zucchini', 'Yogurt Rendah Lemak',\n",
        "            'Asparagus', 'Kubis Brussel', 'Biji Labu', 'Kacang Mede', 'Biji Rami',\n",
        "            'Nasi Hitam', 'Granola', 'Roti Protein Tinggi', 'Kentang', 'Ubi Jalar',\n",
        "            'Tomat Cherry', 'Selada', 'Rucola', 'Jamur Tiram', 'Buncis',\n",
        "            'Cabai', 'Durian', 'Ceri', 'Nanas', 'Kelapa Muda',\n",
        "            'Ikan Tuna', 'Ikan Sarden', 'Daging Kalkun', 'Daging Babi Tanpa Lemak', 'Ikan Kakap',\n",
        "            'Kacang Tanah', 'Kacang Pista', 'Buah Naga', 'Salad Buah', 'Smoothie Hijau'\n",
        "        ]\n",
        "    else:\n",
        "        return []\n",
        "\n",
        "    # Randomly select 5 foods from the food list\n",
        "    return random.sample(makanan_diabetes, 5)\n",
        "\n",
        "# Logic to provide recommendations\n",
        "if input_user.lower() in ['diabetes tipe 1', 'diabetes tipe 2']:\n",
        "    makanan_rekomendasi = rekomendasi_diabetes(input_user.lower())\n",
        "    print(\"Rekomendasi Makanan untuk {}:\".format(input_user))\n",
        "\n",
        "    # Display nutritional information for recommended foods\n",
        "    for makanan in makanan_rekomendasi:\n",
        "        # Mengambil informasi nutrisi dari DataFrame\n",
        "        info = df[df['Nama Makanan'] == makanan].iloc[0]\n",
        "\n",
        "        # Print nutritional information\n",
        "        print(f\"{makanan}: Kalori={info['Kalori']}, Protein={info['Protein']}g, \"\n",
        "              f\"Lemak={info['Lemak']}g, Karbohidrat={info['Karbohidrat']}g, \"\n",
        "              f\"Serat={info['Serat']}g\\n\")\n",
        "\n",
        "else:\n",
        "    print(\"Input tidak valid. Harap masukkan 'diabetes tipe 1' atau 'diabetes tipe 2'.\")\n"
      ],
      "metadata": {
        "id": "hRZIu50YmbDd"
      },
      "execution_count": null,
      "outputs": []
    }
  ]
}